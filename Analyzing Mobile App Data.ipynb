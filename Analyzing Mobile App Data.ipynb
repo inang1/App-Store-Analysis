{
 "cells": [
  {
   "cell_type": "markdown",
   "metadata": {},
   "source": [
    "# App Profiles for the App Store and Google Play Markets\n",
    "\n",
    "This project is to understand the most popular apps in each app store and find the best demographics for each store. "
   ]
  },
  {
   "cell_type": "markdown",
   "metadata": {},
   "source": [
    "The following opens the two datasets that will be used for this project. The first block of code is to open the Google Play Store data set, and the second block of code is to open the App Store data set. Both blocks of code open the file and saves them as lists, extracts the header, and extracts just the data. "
   ]
  },
  {
   "cell_type": "code",
   "execution_count": 1,
   "metadata": {},
   "outputs": [],
   "source": [
    "from csv import reader\n",
    "\n",
    "google_file = open('googleplaystore.csv', encoding='utf8')\n",
    "google_read = reader(google_file)\n",
    "g_list = list(google_read)\n",
    "g_header = g_list[0]\n",
    "g_data = g_list[1:]\n",
    "\n",
    "apple_file = open('AppleStore.csv', encoding='utf8')\n",
    "apple_read = reader(apple_file)\n",
    "apple_list = list(apple_read)\n",
    "apple_header = apple_list[0]\n",
    "apple_data = apple_list[1:]"
   ]
  },
  {
   "cell_type": "markdown",
   "metadata": {},
   "source": [
    "The kernel below is a function to look at the data that is imported. \n",
    "Four parameters are expected:\n",
    "1. dataset: a list of lists containing all of the data\n",
    "2. start: an integer to represent the starting index to slice the data set\n",
    "3. end: an integer to represent the ending index to slice the data set\n",
    "4. rows_and_columns: a boolean with False as the default argument; this parameter will display the number of rows and columns if True\n",
    "\n",
    "The data is sliced to avoid any header rows based off of the start and end integers. \n",
    "Then the code loops through the slice, printing a new row after each row for readability\n",
    "\n",
    "If rows_and_columns is true, then the function will print the number of rows and columns in the dataset."
   ]
  },
  {
   "cell_type": "code",
   "execution_count": 2,
   "metadata": {},
   "outputs": [],
   "source": [
    "def explore_data(dataset, start, end, rows_and_columns=False):\n",
    "    dataset_slice = dataset[start:end]    \n",
    "    for row in dataset_slice:\n",
    "        print(row)\n",
    "        print('\\n') # adds a new (empty) line after each row\n",
    "\n",
    "    if rows_and_columns:\n",
    "        print('Number of rows:', len(dataset))\n",
    "        print('Number of columns:', len(dataset[0]))"
   ]
  },
  {
   "cell_type": "markdown",
   "metadata": {},
   "source": [
    "Now, we'll explore the Play Store data:"
   ]
  },
  {
   "cell_type": "code",
   "execution_count": 3,
   "metadata": {
    "scrolled": true
   },
   "outputs": [
    {
     "name": "stdout",
     "output_type": "stream",
     "text": [
      "['App', 'Category', 'Rating', 'Reviews', 'Size', 'Installs', 'Type', 'Price', 'Content Rating', 'Genres', 'Last Updated', 'Current Ver', 'Android Ver']\n",
      "\n",
      "\n",
      "['Photo Editor & Candy Camera & Grid & ScrapBook', 'ART_AND_DESIGN', '4.1', '159', '19M', '10,000+', 'Free', '0', 'Everyone', 'Art & Design', 'January 7, 2018', '1.0.0', '4.0.3 and up']\n",
      "\n",
      "\n",
      "['Coloring book moana', 'ART_AND_DESIGN', '3.9', '967', '14M', '500,000+', 'Free', '0', 'Everyone', 'Art & Design;Pretend Play', 'January 15, 2018', '2.0.0', '4.0.3 and up']\n",
      "\n",
      "\n",
      "['U Launcher Lite – FREE Live Cool Themes, Hide Apps', 'ART_AND_DESIGN', '4.7', '87510', '8.7M', '5,000,000+', 'Free', '0', 'Everyone', 'Art & Design', 'August 1, 2018', '1.2.4', '4.0.3 and up']\n",
      "\n",
      "\n",
      "Number of rows: 10842\n",
      "Number of columns: 13\n"
     ]
    }
   ],
   "source": [
    "explore_data(g_list, 0, 4, True)"
   ]
  },
  {
   "cell_type": "markdown",
   "metadata": {},
   "source": [
    "There are 10842 apps listed with 13 columns in the Play Store data. \n",
    "The following are the columns of the data:\n",
    "\n",
    "|Number| Column name | Description|\n",
    "| --- | --- | --- | \n",
    "| 1 | App |Name of the app|\n",
    "| 2 |Category| The category the app belongs to|\n",
    "| 3 |Rating| The rating of the app|\n",
    "| 4 |Reviews| The number of reviews|\n",
    "| 5 |Size| The amount of space the app takes up|\n",
    "| 6 |Installs| The number of installations the app has|\n",
    "| 7 |Type| If the app is free or paid for|\n",
    "| 8 |Price| The cost of the app|\n",
    "| 9 |Content Rating| The allowed age demographic for the app|\n",
    "| 10 |Genres| The genre of the app|\n",
    "| 11 |Last Updated| The date the app was last updated|\n",
    "| 12 |Current Ver| The current version of the app|\n",
    "| 13 |Android Ver| The Android version the app is compatible with|"
   ]
  },
  {
   "cell_type": "markdown",
   "metadata": {},
   "source": [
    "Similarly, we'll explore the App Store data:"
   ]
  },
  {
   "cell_type": "code",
   "execution_count": 4,
   "metadata": {},
   "outputs": [
    {
     "name": "stdout",
     "output_type": "stream",
     "text": [
      "['id', 'track_name', 'size_bytes', 'currency', 'price', 'rating_count_tot', 'rating_count_ver', 'user_rating', 'user_rating_ver', 'ver', 'cont_rating', 'prime_genre', 'sup_devices.num', 'ipadSc_urls.num', 'lang.num', 'vpp_lic']\n",
      "\n",
      "\n",
      "['284882215', 'Facebook', '389879808', 'USD', '0.0', '2974676', '212', '3.5', '3.5', '95.0', '4+', 'Social Networking', '37', '1', '29', '1']\n",
      "\n",
      "\n",
      "['389801252', 'Instagram', '113954816', 'USD', '0.0', '2161558', '1289', '4.5', '4.0', '10.23', '12+', 'Photo & Video', '37', '0', '29', '1']\n",
      "\n",
      "\n",
      "['529479190', 'Clash of Clans', '116476928', 'USD', '0.0', '2130805', '579', '4.5', '4.5', '9.24.12', '9+', 'Games', '38', '5', '18', '1']\n",
      "\n",
      "\n",
      "Number of rows: 7198\n",
      "Number of columns: 16\n"
     ]
    }
   ],
   "source": [
    "explore_data(apple_list, 0, 4, True)"
   ]
  },
  {
   "cell_type": "markdown",
   "metadata": {},
   "source": [
    "You can see that there are 7198 apps listed with 16 columns of data from the Apple App store. The following are the columns of data:\n",
    "\n",
    "| Column name | Description|\n",
    "| --- | --- | \n",
    "| id |ID number of the app|\n",
    "|track_name| Name of the app|\n",
    "|size_bytes| The size of the app|\n",
    "|currency| The currency the price is listed in|\n",
    "|price| The cost of the app|\n",
    "|rating_count_tot| The total number of reviews for the app|\n",
    "|rating_count_ver| The number of reviews for the current version of the app|\n",
    "|user_rating| The rating for the app overall|\n",
    "|user_rating_ver| The rating for the current version of the app|\n",
    "|ver| The current version of the app|\n",
    "|cont_rating| The minimum age recommendation for the app|\n",
    "|prime_genre| The kind of app it is| \n",
    "|sup_devices.num| |\n",
    "|ipadSc_urls.num||\n",
    "|lang.num||\n",
    "|vpp_lic||\n",
    "\n",
    "\n"
   ]
  },
  {
   "cell_type": "markdown",
   "metadata": {},
   "source": [
    "# Deleting Incorrect Data\n",
    "Now, looking at a discussion thread [Kaggle Link](https://www.kaggle.com/lava18/google-play-store-apps/discussion/66015), it looks as though there is an error within the Google Play Store data. \n",
    "To remedy this, we will check each row of the dataset and then fix any issues that occur. "
   ]
  },
  {
   "cell_type": "code",
   "execution_count": 5,
   "metadata": {},
   "outputs": [
    {
     "name": "stdout",
     "output_type": "stream",
     "text": [
      "10472\n",
      "12\n"
     ]
    }
   ],
   "source": [
    "head_len = len(g_header)\n",
    "for row in g_data:\n",
    "    if len(row) != head_len:\n",
    "        print(g_data.index(row))\n",
    "        print(len(row))"
   ]
  },
  {
   "cell_type": "markdown",
   "metadata": {},
   "source": [
    "Running the code shows that there is an error with row 10472 within the Google Play data--it only has 12 columns instead of 13. \n",
    "To remedy this, we will delete that row within the dataset. "
   ]
  },
  {
   "cell_type": "code",
   "execution_count": 6,
   "metadata": {},
   "outputs": [],
   "source": [
    "del g_data[10472]"
   ]
  },
  {
   "cell_type": "markdown",
   "metadata": {},
   "source": [
    "Now, we'll run the above code again to check and see if the issue has been resolved."
   ]
  },
  {
   "cell_type": "code",
   "execution_count": 7,
   "metadata": {},
   "outputs": [
    {
     "name": "stdout",
     "output_type": "stream",
     "text": [
      "Done!\n"
     ]
    }
   ],
   "source": [
    "head_len = len(g_header)\n",
    "for row in g_data:\n",
    "    if len(row) != head_len:\n",
    "        print(g_data.index(row))\n",
    "        print(len(row))\n",
    "\n",
    "print('Done!')"
   ]
  },
  {
   "cell_type": "markdown",
   "metadata": {},
   "source": [
    "As you can see, there are no issues with the row lengths being mismatched now that we've deleted that one row. "
   ]
  },
  {
   "cell_type": "markdown",
   "metadata": {},
   "source": [
    "# Deleting Duplicate Data\n",
    "Looking through the data source threads on Kaggle, users report that there are duplicate entries for certain apps for the Google Play data set (there are no duplicate entries in the Apple data set). To remedy this, we will need to:\n",
    "1. Find the duplicate entries\n",
    "2. Determine a criteria to delete the entries\n",
    "3. Delete the duplicates\n",
    "\n",
    "We will start with the first step in the below cell."
   ]
  },
  {
   "cell_type": "code",
   "execution_count": 26,
   "metadata": {},
   "outputs": [
    {
     "name": "stdout",
     "output_type": "stream",
     "text": [
      "For Google data\n",
      "The number of duplicate entries is 1181\n",
      "The number of unique entries is 9659\n",
      "\n",
      "\n"
     ]
    }
   ],
   "source": [
    "dup_apps = []\n",
    "unique_apps = []\n",
    "\n",
    "def count_dups(data_source, app_name_index):\n",
    "    for row in data_source:\n",
    "        app_name = row[app_name_index]\n",
    "        if app_name in unique_apps:\n",
    "            dup_apps.append(app_name)\n",
    "        else:\n",
    "            unique_apps.append(app_name)\n",
    "    return(dup_apps, unique_apps)\n",
    "\n",
    "#Google Data Set\n",
    "g_dup_apps, g_unique_apps = count_dups(g_data, 0)\n",
    "print('For Google data')\n",
    "print('The number of duplicate entries is ' + str(len(g_dup_apps)))\n",
    "print('The number of unique entries is ' + str(len(unique_apps)))\n",
    "print('\\n')"
   ]
  },
  {
   "cell_type": "markdown",
   "metadata": {},
   "source": [
    "Now we need to find a way to delete the duplicates by defining a criteria to delete the duplicate entries and then deleting them based off of the criteria. \n",
    "\n",
    "For this project, I am choosing the criteria of largest number of reviews to decide whether to delete an entry or not. To decide which ones to delete the following steps must be done: \n",
    "1. Create a dictionary containing the highest number of reviews for each app\n",
    "2. Use the dictionary to create a new data set with only unique entries\n",
    "\n",
    "The function below works by iterating through each app within the data source. If the app is not already included in the dictionary, the it is added with the number of reviews it has. If the app is already included, it compares the two number of total reviews and then replaces the value of the entry with the higher number of reviews."
   ]
  },
  {
   "cell_type": "code",
   "execution_count": 25,
   "metadata": {},
   "outputs": [
    {
     "name": "stdout",
     "output_type": "stream",
     "text": [
      "9659\n"
     ]
    }
   ],
   "source": [
    "def max_rev(data_source, name_index, rev_index):\n",
    "    rev_max = {}\n",
    "    for row in data_source:\n",
    "        app_name = row[name_index]\n",
    "        n_rev = float(row[rev_index])\n",
    "        if app_name in rev_max and n_rev > rev_max[app_name]:\n",
    "            rev_max[app_name] = n_rev\n",
    "        else:\n",
    "            rev_max[app_name] = n_rev\n",
    "    return(rev_max)\n",
    "    \n",
    "g_revs = max_rev(g_data, 0, 3)\n",
    "print(len(g_revs))"
   ]
  },
  {
   "cell_type": "markdown",
   "metadata": {},
   "source": [
    "Now that we have two dictionaries that display the maxium number of reviews for each app in each app store, we need to build a new data source with this information. \n",
    "\n",
    "The function del_dups will take in the dictionary with the max number of reviews for each app, compare it to the number of reviews within the data source, and then add the row to the new cleaned data set if it is the entry with the highest number of reviews. \n",
    "\n",
    "We will initialize two lists, an empty one that will contain the new cleaned data and another list that will contain the names of the apps that have already been added to avoid adding duplicate entries.\n"
   ]
  },
  {
   "cell_type": "code",
   "execution_count": 32,
   "metadata": {},
   "outputs": [
    {
     "name": "stdout",
     "output_type": "stream",
     "text": [
      "9659\n",
      "13\n"
     ]
    }
   ],
   "source": [
    "def del_dups(data_source, revs_data, name_index, rev_index):\n",
    "    cleaned_data = []\n",
    "    done_apps = []\n",
    "    for row in data_source:\n",
    "        app_name = row[name_index]\n",
    "        num_revs = float(row[rev_index])\n",
    "        if num_revs == revs_data[app_name] and app_name not in done_apps:\n",
    "            cleaned_data.append(row)\n",
    "            done_apps.append(app_name)\n",
    "    return(cleaned_data)\n",
    "\n",
    "g_clean = del_dups(g_data, g_revs, 0, 3)\n",
    "print(len(g_clean))\n",
    "print(len(g_clean[0]))"
   ]
  },
  {
   "cell_type": "markdown",
   "metadata": {},
   "source": [
    "After cleaning the data, it looks like we have 9659 rows which is the exact number of unique entries we found earlier. "
   ]
  },
  {
   "cell_type": "markdown",
   "metadata": {},
   "source": [
    "# Removing Non-English Apps\n",
    "\n",
    "Now that we have a clean data set, we are only interested in looking at the apps that are in English because this analysis is for an English-speaking audience. \n",
    "\n",
    "To do this, we will remove any entries that are not in English by defining a function to see if any character in the name of the app is not in English. Since there are special characters in some English apps, our function will count the number of non-English characters, and if that number exceeds 3, then it will consider it to be not-English."
   ]
  },
  {
   "cell_type": "code",
   "execution_count": 38,
   "metadata": {},
   "outputs": [
    {
     "name": "stdout",
     "output_type": "stream",
     "text": [
      "True\n",
      "False\n",
      "True\n",
      "True\n"
     ]
    }
   ],
   "source": [
    "def is_eng(app_name):\n",
    "    count = 0\n",
    "    for char in app_name:\n",
    "        if ord(char) > 127:\n",
    "            count += 1\n",
    "            if count > 3:\n",
    "                return(False)\n",
    "    return(True)\n",
    "\n",
    "print(is_eng('Instagram'))\n",
    "print(is_eng('爱奇艺PPS -《欢乐颂2》电视剧热播'))\n",
    "print(is_eng('Docs To Go™ Free Office Suite'))\n",
    "print(is_eng('Instachat 😜'))"
   ]
  },
  {
   "cell_type": "markdown",
   "metadata": {},
   "source": [
    "Now that we have a function to check all English apps, we will now clean our data further by "
   ]
  },
  {
   "cell_type": "code",
   "execution_count": 48,
   "metadata": {
    "scrolled": false
   },
   "outputs": [
    {
     "name": "stdout",
     "output_type": "stream",
     "text": [
      "[['Photo Editor & Candy Camera & Grid & ScrapBook', 'ART_AND_DESIGN', '4.1', '159', '19M', '10,000+', 'Free', '0', 'Everyone', 'Art & Design', 'January 7, 2018', '1.0.0', '4.0.3 and up'], ['U Launcher Lite – FREE Live Cool Themes, Hide Apps', 'ART_AND_DESIGN', '4.7', '87510', '8.7M', '5,000,000+', 'Free', '0', 'Everyone', 'Art & Design', 'August 1, 2018', '1.2.4', '4.0.3 and up'], ['Sketch - Draw & Paint', 'ART_AND_DESIGN', '4.5', '215644', '25M', '50,000,000+', 'Free', '0', 'Teen', 'Art & Design', 'June 8, 2018', 'Varies with device', '4.2 and up'], ['Pixel Draw - Number Art Coloring Book', 'ART_AND_DESIGN', '4.3', '967', '2.8M', '100,000+', 'Free', '0', 'Everyone', 'Art & Design;Creativity', 'June 20, 2018', '1.1', '4.4 and up'], ['Paper flowers instructions', 'ART_AND_DESIGN', '4.4', '167', '5.6M', '50,000+', 'Free', '0', 'Everyone', 'Art & Design', 'March 26, 2017', '1.0', '2.3 and up']]\n",
      "\n",
      "\n",
      "[['Flame - درب عقلك يوميا', 'EDUCATION', '4.6', '56065', '37M', '1,000,000+', 'Free', '0', 'Everyone', 'Education', 'July 26, 2018', '3.3', '4.1 and up'], ['သိင်္ Astrology - Min Thein Kha BayDin', 'LIFESTYLE', '4.7', '2225', '15M', '100,000+', 'Free', '0', 'Everyone', 'Lifestyle', 'July 26, 2018', '4.2.1', '4.0.3 and up'], ['РИА Новости', 'NEWS_AND_MAGAZINES', '4.5', '44274', '8.0M', '1,000,000+', 'Free', '0', 'Everyone', 'News & Magazines', 'August 6, 2018', '4.0.6', '4.4 and up'], ['صور حرف H', 'ART_AND_DESIGN', '4.4', '13', '4.5M', '1,000+', 'Free', '0', 'Everyone', 'Art & Design', 'March 27, 2018', '2.0', '4.0.3 and up'], ['L.POINT - 엘포인트 [ 포인트, 멤버십, 적립, 사용, 모바일 카드, 쿠폰, 롯데]', 'LIFESTYLE', '4.0', '45224', '49M', '5,000,000+', 'Free', '0', 'Everyone', 'Lifestyle', 'August 1, 2018', '6.5.1', '4.1 and up']]\n",
      "\n",
      "\n",
      "[['284882215', 'Facebook', '389879808', 'USD', '0.0', '2974676', '212', '3.5', '3.5', '95.0', '4+', 'Social Networking', '37', '1', '29', '1'], ['389801252', 'Instagram', '113954816', 'USD', '0.0', '2161558', '1289', '4.5', '4.0', '10.23', '12+', 'Photo & Video', '37', '0', '29', '1'], ['529479190', 'Clash of Clans', '116476928', 'USD', '0.0', '2130805', '579', '4.5', '4.5', '9.24.12', '9+', 'Games', '38', '5', '18', '1'], ['420009108', 'Temple Run', '65921024', 'USD', '0.0', '1724546', '3842', '4.5', '4.0', '1.6.2', '9+', 'Games', '40', '5', '1', '1'], ['284035177', 'Pandora - Music & Radio', '130242560', 'USD', '0.0', '1126879', '3594', '4.0', '4.5', '8.4.1', '12+', 'Music', '37', '4', '1', '1']]\n",
      "\n",
      "\n",
      "[['445375097', '爱奇艺PPS -《欢乐颂2》电视剧热播', '224617472', 'USD', '0.0', '14844', '0', '4.0', '0.0', '6.3.3', '17+', 'Entertainment', '38', '5', '3', '1'], ['405667771', '聚力视频HD-人民的名义,跨界歌王全网热播', '90725376', 'USD', '0.0', '7446', '8', '4.0', '4.5', '5.0.8', '12+', 'Entertainment', '24', '4', '1', '1'], ['336141475', '优酷视频', '204959744', 'USD', '0.0', '4885', '0', '3.5', '0.0', '6.7.0', '12+', 'Entertainment', '38', '0', '2', '1'], ['425349261', '网易新闻 - 精选好内容，算出你的兴趣', '133134336', 'USD', '0.0', '4263', '6', '4.5', '1.0', '23.2', '17+', 'News', '37', '4', '2', '1'], ['387682726', '淘宝 - 随时随地，想淘就淘', '309673984', 'USD', '0.0', '3801', '6', '4.0', '4.0', '6.7.2', '4+', 'Shopping', '37', '1', '1', '1']]\n"
     ]
    }
   ],
   "source": [
    "def keep_eng(data_set, name_index):\n",
    "    eng_apps = []\n",
    "    non_eng_apps = []\n",
    "    for row in data_set:\n",
    "        app_name = row[name_index]\n",
    "        eng = is_eng(app_name)\n",
    "        if eng:\n",
    "            eng_apps.append(row)\n",
    "        else:\n",
    "            non_eng_apps.append(row)\n",
    "    return(eng_apps, non_eng_apps)\n",
    "\n",
    "g_eng_apps, g_non_eng_apps = keep_eng(g_clean, 0)\n",
    "print(g_eng_apps[:5])\n",
    "print('\\n')\n",
    "print(g_non_eng_apps[:5])\n",
    "print('\\n')\n",
    "\n",
    "a_eng_apps, a_non_eng_apps = keep_eng(apple_data, 1)\n",
    "print(a_eng_apps[:5])\n",
    "print('\\n')\n",
    "print(a_non_eng_apps[:5])\n"
   ]
  },
  {
   "cell_type": "markdown",
   "metadata": {},
   "source": [
    "# Finding Free Apps\n",
    "\n",
    "Now that we have two clean data sets of only English and non-English apps for both stores, we are going to look at just the free apps. \n",
    "To do this, we create a function that iterates over each data set and appends entries to a new free data set if the price is equal to zero. "
   ]
  },
  {
   "cell_type": "code",
   "execution_count": 56,
   "metadata": {
    "scrolled": true
   },
   "outputs": [
    {
     "name": "stdout",
     "output_type": "stream",
     "text": [
      "Number of free apps in Google Play store is 8864\n",
      "\n",
      "\n",
      "[['Photo Editor & Candy Camera & Grid & ScrapBook', 'ART_AND_DESIGN', '4.1', '159', '19M', '10,000+', 'Free', '0', 'Everyone', 'Art & Design', 'January 7, 2018', '1.0.0', '4.0.3 and up'], ['U Launcher Lite – FREE Live Cool Themes, Hide Apps', 'ART_AND_DESIGN', '4.7', '87510', '8.7M', '5,000,000+', 'Free', '0', 'Everyone', 'Art & Design', 'August 1, 2018', '1.2.4', '4.0.3 and up'], ['Sketch - Draw & Paint', 'ART_AND_DESIGN', '4.5', '215644', '25M', '50,000,000+', 'Free', '0', 'Teen', 'Art & Design', 'June 8, 2018', 'Varies with device', '4.2 and up'], ['Pixel Draw - Number Art Coloring Book', 'ART_AND_DESIGN', '4.3', '967', '2.8M', '100,000+', 'Free', '0', 'Everyone', 'Art & Design;Creativity', 'June 20, 2018', '1.1', '4.4 and up'], ['Paper flowers instructions', 'ART_AND_DESIGN', '4.4', '167', '5.6M', '50,000+', 'Free', '0', 'Everyone', 'Art & Design', 'March 26, 2017', '1.0', '2.3 and up']]\n",
      "\n",
      "\n",
      "Number of free apps in Apple app store is 3222\n",
      "\n",
      "\n",
      "[['284882215', 'Facebook', '389879808', 'USD', '0.0', '2974676', '212', '3.5', '3.5', '95.0', '4+', 'Social Networking', '37', '1', '29', '1'], ['389801252', 'Instagram', '113954816', 'USD', '0.0', '2161558', '1289', '4.5', '4.0', '10.23', '12+', 'Photo & Video', '37', '0', '29', '1'], ['529479190', 'Clash of Clans', '116476928', 'USD', '0.0', '2130805', '579', '4.5', '4.5', '9.24.12', '9+', 'Games', '38', '5', '18', '1'], ['420009108', 'Temple Run', '65921024', 'USD', '0.0', '1724546', '3842', '4.5', '4.0', '1.6.2', '9+', 'Games', '40', '5', '1', '1'], ['284035177', 'Pandora - Music & Radio', '130242560', 'USD', '0.0', '1126879', '3594', '4.0', '4.5', '8.4.1', '12+', 'Music', '37', '4', '1', '1']]\n",
      "\n",
      "\n"
     ]
    }
   ],
   "source": [
    "def free_apps(data_set, price_index):\n",
    "    free = []\n",
    "    for row in data_set: \n",
    "        price = str(row[price_index])\n",
    "        if price == '0' or price == '0.0':\n",
    "            free.append(row)\n",
    "    return(free)\n",
    "\n",
    "g_free = free_apps(g_eng_apps, 7)\n",
    "print('Number of free apps in Google Play store is ' + str(len(g_free)))\n",
    "print('\\n')\n",
    "print(g_free[:5])\n",
    "print('\\n')\n",
    "\n",
    "a_free = free_apps(a_eng_apps, 4)\n",
    "print('Number of free apps in Apple app store is ' + str(len(a_free)))\n",
    "print('\\n')\n",
    "print(a_free[:5])\n",
    "print('\\n')\n",
    "            "
   ]
  },
  {
   "cell_type": "markdown",
   "metadata": {},
   "source": [
    "# Most Popular Genre of App\n",
    "Now that we have a data set of free apps, we will look at what free apps are the most popular. \n",
    "It is important to find a genre that is popular across both stores to reach the largest audience, allowing us to bring in the most amount of money possible via in-app ads.\n",
    "\n",
    "To find the most popular genre of free apps in each app store, we can use the Category field (index 1) in the Google data set and the Prime_Genre (index 11) field in the Apple data set to create a frequency table with the number of apps in each category. "
   ]
  },
  {
   "cell_type": "code",
   "execution_count": 72,
   "metadata": {},
   "outputs": [],
   "source": [
    "def freq_table(data_set, genre_index):\n",
    "    table = {}\n",
    "    count = 0\n",
    "    \n",
    "    for row in data_set:\n",
    "        count += 1\n",
    "        genre = row[genre_index]\n",
    "        if genre in table:\n",
    "            table[genre] += 1\n",
    "        else:\n",
    "            table[genre] = 1\n",
    "    \n",
    "    p_table = {}\n",
    "    for key in table:\n",
    "        percent = (table[key]/count) * 100\n",
    "        p_table[key] = percent\n",
    "        \n",
    "    return(p_table)"
   ]
  },
  {
   "cell_type": "code",
   "execution_count": 73,
   "metadata": {},
   "outputs": [],
   "source": [
    "def display_table(data_set, index):\n",
    "    table = freq_table(data_set, index)\n",
    "    table_display = []\n",
    "    for key in table:\n",
    "        key_val_as_tuple = (table[key], key)\n",
    "        table_display.append(key_val_as_tuple)\n",
    "\n",
    "    table_sorted = sorted(table_display, reverse = True)\n",
    "    for entry in table_sorted:\n",
    "        print(entry[1], ':', entry[0])"
   ]
  },
  {
   "cell_type": "code",
   "execution_count": 74,
   "metadata": {},
   "outputs": [
    {
     "name": "stdout",
     "output_type": "stream",
     "text": [
      "FAMILY : 19.223826714801444\n",
      "GAME : 9.510379061371841\n",
      "TOOLS : 8.461191335740072\n",
      "BUSINESS : 4.580324909747293\n",
      "LIFESTYLE : 3.9034296028880866\n",
      "PRODUCTIVITY : 3.892148014440433\n",
      "FINANCE : 3.7003610108303246\n",
      "MEDICAL : 3.5424187725631766\n",
      "SPORTS : 3.4183212996389893\n",
      "PERSONALIZATION : 3.3167870036101084\n",
      "COMMUNICATION : 3.2490974729241873\n",
      "HEALTH_AND_FITNESS : 3.068592057761733\n",
      "PHOTOGRAPHY : 2.944494584837545\n",
      "NEWS_AND_MAGAZINES : 2.7978339350180503\n",
      "SOCIAL : 2.6624548736462095\n",
      "TRAVEL_AND_LOCAL : 2.33528880866426\n",
      "SHOPPING : 2.2450361010830324\n",
      "BOOKS_AND_REFERENCE : 2.1435018050541514\n",
      "DATING : 1.861462093862816\n",
      "VIDEO_PLAYERS : 1.782490974729242\n",
      "MAPS_AND_NAVIGATION : 1.3989169675090252\n",
      "FOOD_AND_DRINK : 1.2409747292418771\n",
      "EDUCATION : 1.128158844765343\n",
      "LIBRARIES_AND_DEMO : 0.9363718411552346\n",
      "AUTO_AND_VEHICLES : 0.9250902527075812\n",
      "ENTERTAINMENT : 0.8799638989169676\n",
      "HOUSE_AND_HOME : 0.8235559566787004\n",
      "WEATHER : 0.8009927797833934\n",
      "EVENTS : 0.7107400722021661\n",
      "PARENTING : 0.6543321299638989\n",
      "ART_AND_DESIGN : 0.6430505415162455\n",
      "COMICS : 0.6204873646209386\n",
      "BEAUTY : 0.5979241877256317\n",
      "\n",
      "\n",
      "Games : 58.16263190564867\n",
      "Entertainment : 7.883302296710118\n",
      "Photo & Video : 4.9658597144630665\n",
      "Education : 3.662321539416512\n",
      "Social Networking : 3.2898820608317814\n",
      "Shopping : 2.60707635009311\n",
      "Utilities : 2.5139664804469275\n",
      "Sports : 2.1415270018621975\n",
      "Music : 2.0484171322160147\n",
      "Health & Fitness : 2.0173805090006205\n",
      "Productivity : 1.7380509000620732\n",
      "Lifestyle : 1.5828677839851024\n",
      "News : 1.3345747982619491\n",
      "Travel : 1.2414649286157666\n",
      "Finance : 1.1173184357541899\n",
      "Weather : 0.8690254500310366\n",
      "Food & Drink : 0.8069522036002483\n",
      "Reference : 0.5586592178770949\n",
      "Business : 0.5276225946617008\n",
      "Book : 0.4345127250155183\n",
      "Navigation : 0.186219739292365\n",
      "Medical : 0.186219739292365\n",
      "Catalogs : 0.12414649286157665\n"
     ]
    }
   ],
   "source": [
    "display_table(g_free, 1)\n",
    "print('\\n')\n",
    "\n",
    "display_table(a_free, 11)"
   ]
  },
  {
   "cell_type": "markdown",
   "metadata": {},
   "source": [
    "It looks as though the Play store has mostly Family apps (with Games coming in second) while the Apple App store has games as their most popular free category (and entertainment as the runner up). \n",
    "\n",
    "For the Play store, it looks as though there are a wider variety of app genres, with a lot of apps being for practical purposes. Based off of this, a family or game app would probably be a good idea to create.\n",
    "\n",
    "As for the App Store, it looks like many of the apps are for fun, with more than half of the apps being for Games. This is a bit different from the Play Store, but since there is an overlap with Games being a very popular category in both stores, a games app would probably do very well in both stores. \n"
   ]
  },
  {
   "cell_type": "code",
   "execution_count": null,
   "metadata": {},
   "outputs": [],
   "source": [
    "g_genres = freq_table(g_free, 1)\n",
    "\n",
    "def avg_rate(data_set, genre_index):\n",
    "    total = 0\n",
    "    len_genre = 0\n",
    "    for row in data_set:\n",
    "        genre_app = row[genre_index]\n",
    "    "
   ]
  },
  {
   "cell_type": "code",
   "execution_count": null,
   "metadata": {},
   "outputs": [],
   "source": []
  }
 ],
 "metadata": {
  "kernelspec": {
   "display_name": "Python 3",
   "language": "python",
   "name": "python3"
  },
  "language_info": {
   "codemirror_mode": {
    "name": "ipython",
    "version": 3
   },
   "file_extension": ".py",
   "mimetype": "text/x-python",
   "name": "python",
   "nbconvert_exporter": "python",
   "pygments_lexer": "ipython3",
   "version": "3.7.4"
  }
 },
 "nbformat": 4,
 "nbformat_minor": 2
}
